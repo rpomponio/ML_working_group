{
 "cells": [
  {
   "cell_type": "markdown",
   "id": "466f8984",
   "metadata": {},
   "source": [
    "For today’s workshop we will be going through a live neural network coding demonstration in VSCode. We encourage you to follow along on your local machine.\n",
    "We recommend that before todays workshop you try creating a python script in VSCode and running these lines:\n",
    "```python\n",
    "import torch\n",
    "x = torch.rand(5, 3)\n",
    "print(x)\n",
    "```\n",
    "which should output in your terminal a 5x3 tensor of random numbers. If you have trouble, please let us know, David will be available to troubleshoot anytime in the hour before our meeting."
   ]
  },
  {
   "cell_type": "code",
   "execution_count": 1,
   "id": "78025c1c",
   "metadata": {},
   "outputs": [],
   "source": [
    "from torchvision import datasets\n",
    "import torch\n",
    "import torchvision.transforms as tf\n",
    "import pdb\n",
    "from torch.utils.data import DataLoader"
   ]
  },
  {
   "cell_type": "code",
   "execution_count": 2,
   "id": "9d1ab565",
   "metadata": {},
   "outputs": [],
   "source": [
    "from MyNeuralNetwork import NeuralNetwork"
   ]
  },
  {
   "cell_type": "code",
   "execution_count": 3,
   "id": "af8decd3",
   "metadata": {},
   "outputs": [],
   "source": [
    "def GetDatasets(download=True):\n",
    "    dataset_train = datasets.FashionMNIST(\n",
    "        root = r'data/train',\n",
    "        download = download,\n",
    "        train = True,\n",
    "        transform = tf.ToTensor() \n",
    "    )\n",
    "    \n",
    "    dataset_test = datasets.FashionMNIST(\n",
    "        root = r'data/test',\n",
    "        download = download,\n",
    "        train = False,\n",
    "        transform = tf.ToTensor() \n",
    "    )\n",
    "    return dataset_train, dataset_test"
   ]
  },
  {
   "cell_type": "code",
   "execution_count": 4,
   "id": "b604b987",
   "metadata": {},
   "outputs": [],
   "source": [
    "dataset_train, dataset_test = GetDatasets(False);"
   ]
  },
  {
   "cell_type": "code",
   "execution_count": 5,
   "id": "224e58a5",
   "metadata": {},
   "outputs": [],
   "source": [
    "batch_size = 500\n",
    "dataloader_train = DataLoader(dataset_train, batch_size=batch_size, shuffle=True)\n",
    "dataloader_test = DataLoader(dataset_test, batch_size=batch_size, shuffle=True)"
   ]
  },
  {
   "cell_type": "code",
   "execution_count": 6,
   "id": "d2ace5f6",
   "metadata": {},
   "outputs": [],
   "source": [
    "network = NeuralNetwork()"
   ]
  },
  {
   "cell_type": "code",
   "execution_count": 7,
   "id": "392c1575",
   "metadata": {},
   "outputs": [],
   "source": [
    "criterion = torch.nn.CrossEntropyLoss()\n",
    "optimizer = torch.optim.SGD(network.parameters(), lr=0.0001)"
   ]
  },
  {
   "cell_type": "code",
   "execution_count": 9,
   "id": "1db8f4be",
   "metadata": {},
   "outputs": [],
   "source": [
    "num_epochs = 3\n",
    "for epoch in range(num_epochs):\n",
    "    for idx, batch in enumerate(dataloader_train):\n",
    "        # zero the gradient\n",
    "        optimizer.zero_grad()\n",
    "        \n",
    "        x, y = batch[0], batch[1]\n",
    "        \n",
    "        # flatten it first\n",
    "        x = torch.flatten(x, start_dim=1)\n",
    "        \n",
    "        # forward pass\n",
    "        predictions = network(x)\n",
    "        \n",
    "        loss = criterion(predictions, y)\n",
    "        \n",
    "        # backpropogate the loss\n",
    "        loss.backward()\n",
    "        \n",
    "        # step the optimizer in the direction of the gradient\n",
    "        optimizer.step()"
   ]
  },
  {
   "cell_type": "code",
   "execution_count": 10,
   "id": "9d518301",
   "metadata": {},
   "outputs": [
    {
     "data": {
      "text/plain": [
       "2.3026156425476074"
      ]
     },
     "execution_count": 10,
     "metadata": {},
     "output_type": "execute_result"
    }
   ],
   "source": [
    "loss.item()"
   ]
  }
 ],
 "metadata": {
  "kernelspec": {
   "display_name": "Python 3 (ipykernel)",
   "language": "python",
   "name": "python3"
  },
  "language_info": {
   "codemirror_mode": {
    "name": "ipython",
    "version": 3
   },
   "file_extension": ".py",
   "mimetype": "text/x-python",
   "name": "python",
   "nbconvert_exporter": "python",
   "pygments_lexer": "ipython3",
   "version": "3.7.12"
  }
 },
 "nbformat": 4,
 "nbformat_minor": 5
}
